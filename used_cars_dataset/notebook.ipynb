{
 "cells": [
  {
   "cell_type": "code",
   "execution_count": 371,
   "metadata": {},
   "outputs": [
    {
     "name": "stdout",
     "output_type": "stream",
     "text": [
      "                 model    year  price transmission mileage fuelType    tax  \\\n",
      "0                T-Roc  2019.0  25000    Automatic   13904   Diesel  145.0   \n",
      "1                T-Roc  2019.0  26883    Automatic    4562   Diesel  145.0   \n",
      "2                T-Roc  2019.0  20000       Manual    7414   Diesel  145.0   \n",
      "3                T-Roc  2019.0  33492    Automatic    4825   Petrol  145.0   \n",
      "4                T-Roc  2019.0  22900    Semi-Auto    6500   Petrol  150.0   \n",
      "...                ...     ...    ...          ...     ...      ...    ...   \n",
      "118145              IQ  2011.0   5500    Automatic   30000   Petrol   20.0   \n",
      "118146   Urban Cruiser  2011.0   4985       Manual   36154   Petrol  125.0   \n",
      "118147   Urban Cruiser  2012.0   4995       Manual   46000   Diesel  125.0   \n",
      "118148   Urban Cruiser  2011.0   3995       Manual   60700   Petrol  125.0   \n",
      "118149   Urban Cruiser  2011.0   4495       Manual   45128   Petrol  125.0   \n",
      "\n",
      "         mpg  engineSize fuel type engine size mileage2 fuel type2  \\\n",
      "0       49.6         2.0       NaN         NaN      NaN        NaN   \n",
      "1       49.6         2.0       NaN         NaN      NaN        NaN   \n",
      "2       50.4         2.0       NaN         NaN      NaN        NaN   \n",
      "3       32.5         2.0       NaN         NaN      NaN        NaN   \n",
      "4       39.8         1.5       NaN         NaN      NaN        NaN   \n",
      "...      ...         ...       ...         ...      ...        ...   \n",
      "118145  58.9         1.0       NaN         NaN      NaN        NaN   \n",
      "118146  50.4         1.3       NaN         NaN      NaN        NaN   \n",
      "118147  57.6         1.4       NaN         NaN      NaN        NaN   \n",
      "118148  50.4         1.3       NaN         NaN      NaN        NaN   \n",
      "118149  50.4         1.3       NaN         NaN      NaN        NaN   \n",
      "\n",
      "       engine size2 reference  tax(£)  \n",
      "0               NaN       NaN     NaN  \n",
      "1               NaN       NaN     NaN  \n",
      "2               NaN       NaN     NaN  \n",
      "3               NaN       NaN     NaN  \n",
      "4               NaN       NaN     NaN  \n",
      "...             ...       ...     ...  \n",
      "118145          NaN       NaN     NaN  \n",
      "118146          NaN       NaN     NaN  \n",
      "118147          NaN       NaN     NaN  \n",
      "118148          NaN       NaN     NaN  \n",
      "118149          NaN       NaN     NaN  \n",
      "\n",
      "[118150 rows x 16 columns]\n"
     ]
    }
   ],
   "source": [
    "import pandas as pd\n",
    "import os\n",
    "import re\n",
    "\n",
    "# Paso 1: Importar pandas\n",
    "\n",
    "# Paso 2: Especificar los paths de los archivos CSV\n",
    "directory = '/workspaces/EDA_1/used_cars_dataset/cars.csv'\n",
    "\n",
    "# Obtener la lista de archivos en el directorio\n",
    "files = [f for f in os.listdir(directory)]\n",
    "\n",
    "# Paso 3: Concatenar los archivos en un DataFrame\n",
    "dfs = []\n",
    "\n",
    "for file in files:\n",
    "    # Crear el path completo del archivo\n",
    "    file_path = os.path.join(directory, file)\n",
    "    \n",
    "    # Cargar el archivo CSV en un DataFrame\n",
    "    df = pd.read_csv(file_path)\n",
    "    \n",
    "    # Agregar el DataFrame a la lista\n",
    "    dfs.append(df)\n",
    "\n",
    "# Concatenar todos los DataFrames en uno solo\n",
    "df = pd.concat(dfs, ignore_index=True)\n",
    "\n",
    "# Mostrar el DataFrame resultante\n",
    "print(df)\n"
   ]
  },
  {
   "cell_type": "code",
   "execution_count": 372,
   "metadata": {},
   "outputs": [
    {
     "name": "stdout",
     "output_type": "stream",
     "text": [
      "<class 'pandas.core.frame.DataFrame'>\n",
      "RangeIndex: 118150 entries, 0 to 118149\n",
      "Data columns (total 16 columns):\n",
      " #   Column        Non-Null Count   Dtype  \n",
      "---  ------        --------------   -----  \n",
      " 0   model         117995 non-null  object \n",
      " 1   year          117903 non-null  float64\n",
      " 2   price         117995 non-null  object \n",
      " 3   transmission  117995 non-null  object \n",
      " 4   mileage       117077 non-null  object \n",
      " 5   fuelType      108540 non-null  object \n",
      " 6   tax           94327 non-null   float64\n",
      " 7   mpg           99187 non-null   float64\n",
      " 8   engineSize    108540 non-null  float64\n",
      " 9   fuel type     3517 non-null    object \n",
      " 10  engine size   9345 non-null    object \n",
      " 11  mileage2      9399 non-null    object \n",
      " 12  fuel type2    8537 non-null    object \n",
      " 13  engine size2  8537 non-null    object \n",
      " 14  reference     9455 non-null    object \n",
      " 15  tax(£)        4860 non-null    float64\n",
      "dtypes: float64(5), object(11)\n",
      "memory usage: 14.4+ MB\n"
     ]
    }
   ],
   "source": [
    "df.info()"
   ]
  },
  {
   "cell_type": "markdown",
   "metadata": {},
   "source": [
    "En este punto observamos que hay diferentes columnas con la misma información pero escritas de diferente forma. Nuestro trabajo se enfoca ahora en compilarlas en columnas únicas."
   ]
  },
  {
   "cell_type": "code",
   "execution_count": 373,
   "metadata": {},
   "outputs": [],
   "source": [
    "df['fuel type'] = df['fuel type'].apply(lambda x: re.sub(r'\\d+', 'n/a', str(x)))\n",
    "df['fuelType'].fillna('', inplace=True)\n",
    "df['fuel type'].fillna('', inplace=True)\n",
    "df['fuel type2'].fillna('', inplace=True)\n",
    "df['fuel'] = df['fuelType'] + df['fuel type'] + df['fuel type2']\n",
    "df.drop(['fuel type','fuelType','fuel type2'], axis = 1, inplace = True)"
   ]
  },
  {
   "cell_type": "code",
   "execution_count": 374,
   "metadata": {},
   "outputs": [],
   "source": [
    "df['engine size'] = df['engine size'].replace(to_replace=r'^\\£\\d+(\\.\\d+)?$', value='n/a', regex=True)\n",
    "df['engineSize'] = df['engineSize'].astype(str)\n",
    "df['engineSize'].fillna('', inplace=True)\n",
    "df['engine size'].fillna('', inplace=True)\n",
    "df['engine size2'].fillna('', inplace=True)\n",
    "df['engine'] = df['engineSize'] + df['engine size'] + df['engine size2']\n",
    "df.drop(['engineSize','engine size','engine size2'], axis = 1, inplace = True)"
   ]
  },
  {
   "cell_type": "code",
   "execution_count": 375,
   "metadata": {},
   "outputs": [
    {
     "name": "stdout",
     "output_type": "stream",
     "text": [
      "118150\n"
     ]
    }
   ],
   "source": [
    "# Replace values with 0 if '.' in them\n",
    "df['mileage2'] = df['mileage2'].replace(r'\\.\\d+', 0, regex=True)\n",
    "\n",
    "df['mileage2'].fillna('0', inplace=True)\n",
    "df['mileage'].fillna('0', inplace=True)\n",
    "\n",
    "df['mileage'] = pd.to_numeric(df['mileage'], errors='coerce')\n",
    "df['mileage2'] = pd.to_numeric(df['mileage2'], errors='coerce')\n",
    "\n",
    "\n",
    "df['mileage'] = df['mileage'].astype(float)\n",
    "df['mileage2'] = df['mileage2'].astype(float)\n",
    "df['mile age'] = df['mileage'] + df['mileage2']\n",
    "df['mile age'] = df['mile age'].astype(float)\n",
    "df.drop(['mileage', 'mileage2'], axis = 1, inplace = True)\n",
    "\n",
    "\n",
    "# print(df['mileage2'].isna().sum())\n",
    "# print(df['mileage'].isna().sum())\n",
    "# print(len(df['mileage2']))\n",
    "# print(len(df['mileage']))\n",
    "print(len(df['mile age']))\n"
   ]
  },
  {
   "cell_type": "code",
   "execution_count": 376,
   "metadata": {},
   "outputs": [],
   "source": [
    "df['tax'].fillna(0, inplace=True)\n",
    "df['tax(£)'].fillna(0, inplace=True)\n",
    "df['taxes'] = df['tax'] + df['tax(£)']\n",
    "df.drop(['tax','tax(£)'], axis = 1, inplace = True)"
   ]
  },
  {
   "cell_type": "code",
   "execution_count": 377,
   "metadata": {},
   "outputs": [
    {
     "name": "stdout",
     "output_type": "stream",
     "text": [
      "<class 'pandas.core.frame.DataFrame'>\n",
      "RangeIndex: 118150 entries, 0 to 118149\n",
      "Data columns (total 9 columns):\n",
      " #   Column        Non-Null Count   Dtype  \n",
      "---  ------        --------------   -----  \n",
      " 0   model         117995 non-null  object \n",
      " 1   year          117903 non-null  float64\n",
      " 2   price         117995 non-null  object \n",
      " 3   transmission  117995 non-null  object \n",
      " 4   mpg           99187 non-null   float64\n",
      " 5   fuel          118150 non-null  object \n",
      " 6   engine        118150 non-null  object \n",
      " 7   mile age      108972 non-null  float64\n",
      " 8   taxes         118150 non-null  float64\n",
      "dtypes: float64(4), object(5)\n",
      "memory usage: 8.1+ MB\n"
     ]
    }
   ],
   "source": [
    "df.drop('reference', axis = 1, inplace = True)\n",
    "df.info()"
   ]
  },
  {
   "cell_type": "code",
   "execution_count": 378,
   "metadata": {},
   "outputs": [
    {
     "name": "stdout",
     "output_type": "stream",
     "text": [
      "<class 'pandas.core.frame.DataFrame'>\n",
      "Index: 117995 entries, 0 to 118149\n",
      "Data columns (total 9 columns):\n",
      " #   Column        Non-Null Count   Dtype  \n",
      "---  ------        --------------   -----  \n",
      " 0   model         117995 non-null  object \n",
      " 1   year          117903 non-null  float64\n",
      " 2   price         117995 non-null  float64\n",
      " 3   transmission  117995 non-null  object \n",
      " 4   mpg           99187 non-null   float64\n",
      " 5   fuel          117995 non-null  object \n",
      " 6   engine        117995 non-null  object \n",
      " 7   mile age      108817 non-null  float64\n",
      " 8   taxes         117995 non-null  float64\n",
      "dtypes: float64(5), object(4)\n",
      "memory usage: 9.0+ MB\n"
     ]
    }
   ],
   "source": [
    "df['price'] = df['price'].replace('[\\£,]', '', regex=True).astype(float)\n",
    "df['price'] = df['price'].fillna(0)\n",
    "df = df[df[\"price\"] != 0.0]\n",
    "df.info()"
   ]
  },
  {
   "cell_type": "code",
   "execution_count": 379,
   "metadata": {},
   "outputs": [
    {
     "name": "stdout",
     "output_type": "stream",
     "text": [
      "model               0\n",
      "year               92\n",
      "price               0\n",
      "transmission        0\n",
      "mpg             18808\n",
      "fuel                0\n",
      "engine              0\n",
      "mile age         9178\n",
      "taxes               0\n",
      "dtype: int64\n"
     ]
    }
   ],
   "source": [
    "# Mostrar la cantidad de NaN por columna\n",
    "nan_por_columna = df.isnull().sum()\n",
    "\n",
    "# Mostrar el resultado\n",
    "print(nan_por_columna)"
   ]
  },
  {
   "cell_type": "code",
   "execution_count": 380,
   "metadata": {},
   "outputs": [],
   "source": [
    "df.to_csv('test_cars.csv', index=False)"
   ]
  },
  {
   "cell_type": "code",
   "execution_count": null,
   "metadata": {},
   "outputs": [],
   "source": []
  }
 ],
 "metadata": {
  "kernelspec": {
   "display_name": "Python 3",
   "language": "python",
   "name": "python3"
  },
  "language_info": {
   "codemirror_mode": {
    "name": "ipython",
    "version": 3
   },
   "file_extension": ".py",
   "mimetype": "text/x-python",
   "name": "python",
   "nbconvert_exporter": "python",
   "pygments_lexer": "ipython3",
   "version": "3.11.4"
  }
 },
 "nbformat": 4,
 "nbformat_minor": 2
}
